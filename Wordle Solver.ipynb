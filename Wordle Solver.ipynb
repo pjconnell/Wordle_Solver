{
 "cells": [
  {
   "cell_type": "code",
   "execution_count": 200,
   "metadata": {},
   "outputs": [],
   "source": [
    "import numpy as np\n",
    "import pandas as pd\n",
    "from tqdm import tqdm"
   ]
  },
  {
   "cell_type": "code",
   "execution_count": 229,
   "metadata": {},
   "outputs": [],
   "source": [
    "# read scrabble dictionary to wordlist\n",
    "with open('scrabble_dict.txt') as f:\n",
    "    wordlist = f.read().splitlines()[2:]\n",
    "\n",
    "# filter for 5 letter words / no plurals (Wordle doesn't use them)\n",
    "temp = [word for word in wordlist if len(word) == 5 ]\n",
    "temp = [word for word in temp if word[4] != 'S' or word[3] == 'S']\n",
    "\n",
    "# store alphabet as a list\n",
    "alphabet = ['A', 'B','C','D','E','F',\n",
    "            'G','H','I','J','K','L',\n",
    "            'M','N','O','P','Q','R',\n",
    "            'S','T','U','V','W','X',\n",
    "            'Y','Z']\n",
    "\n",
    "# store potential letter positions as a list\n",
    "positions = ['pos_1','pos_2','pos_3','pos_4','pos_5']"
   ]
  },
  {
   "cell_type": "code",
   "execution_count": 202,
   "metadata": {},
   "outputs": [],
   "source": [
    "def ltr_density(temp):\n",
    "    # calculate frequency of letters in each position for remaining words\n",
    "    ltr_den = np.zeros((26,5))\n",
    "    \n",
    "    alphabet = ['A', 'B','C','D','E','F',\n",
    "                'G','H','I','J','K','L',\n",
    "                'M','N','O','P','Q','R',\n",
    "                'S','T','U','V','W','X',\n",
    "                'Y','Z']\n",
    "    positions = ['pos_1','pos_2','pos_3','pos_4','pos_5']\n",
    "    \n",
    "    # df to hold density counts\n",
    "    df = pd.DataFrame(ltr_den, columns = positions,index=alphabet)\n",
    "\n",
    "    #iterate through temp to count letter freq in each position\n",
    "    for i in tqdm(range(len(temp))):\n",
    "        for j in range(0,5):\n",
    "            for k in range(len(alphabet)):\n",
    "                if temp[i][j] == alphabet[k]:\n",
    "                    df[positions[j]][k]+=1.0\n",
    "    return df"
   ]
  },
  {
   "cell_type": "code",
   "execution_count": 203,
   "metadata": {},
   "outputs": [],
   "source": [
    "def update_wd_list(contains, excludes, pos_str, non_pos, temp):\n",
    "    for i in range(len(contains)):\n",
    "        temp = [word for word in temp if contains[i] in word]\n",
    "\n",
    "    for i in range(len(excludes)):\n",
    "        temp = [word for word in temp if excludes[i] not in word]\n",
    "\n",
    "    for i in range(len(pos_str)):\n",
    "        if pos_str[i] != '?':\n",
    "            temp = [word for word in temp if word[i] == pos_str[i]]\n",
    "\n",
    "    for i in range(len(non_pos)):\n",
    "        if len(non_pos[i]) >0:\n",
    "            for j in range(len(non_pos[i])):\n",
    "                if non_pos[i][j] != '?':\n",
    "                    temp = [word for word in temp if word[j] != non_pos[i][j]]\n",
    "    return temp\n"
   ]
  },
  {
   "cell_type": "code",
   "execution_count": 204,
   "metadata": {},
   "outputs": [],
   "source": [
    "def guess_wd(temp, alphabet):\n",
    "    top_wd = ''\n",
    "    top_score = 0\n",
    "    for i in tqdm(range(len(temp))):\n",
    "        wd = temp[i]\n",
    "        wd_score = 0\n",
    "        for j in range(len(wd)):\n",
    "            for k in range(len(alphabet)):\n",
    "                if wd[j] == alphabet[k]:\n",
    "                    wd_score = wd_score + df[positions[j]][k]\n",
    "        if wd_score > top_score:\n",
    "            s = set(wd)\n",
    "            if len(s) == 5:\n",
    "                top_wd = wd\n",
    "                top_score = wd_score\n",
    "    return top_wd"
   ]
  },
  {
   "cell_type": "code",
   "execution_count": 222,
   "metadata": {},
   "outputs": [
    {
     "name": "stdout",
     "output_type": "stream",
     "text": [
      "Enter letters the word contains separated by a space: T R U S\n",
      "Enter excluded letters separated by a space: A M E Y P O I N G\n",
      "Enter known positions (e.g., S??A?): TRU?S\n"
     ]
    },
    {
     "name": "stderr",
     "output_type": "stream",
     "text": [
      "100%|███████████████████████████████████████████████████████████████████████████████████| 1/1 [00:00<00:00, 493.80it/s]\n",
      "100%|██████████████████████████████████████████████████████████████████████████████████| 1/1 [00:00<00:00, 1002.22it/s]"
     ]
    },
    {
     "name": "stdout",
     "output_type": "stream",
     "text": [
      "You should try: TRUSS\n"
     ]
    },
    {
     "name": "stderr",
     "output_type": "stream",
     "text": [
      "\n"
     ]
    }
   ],
   "source": [
    "#### Interface\n",
    "\n",
    "# ID known letters\n",
    "input_contains = input(\"Enter letters the word contains separated by a space: \")\n",
    "contains = input_contains.split()\n",
    "\n",
    "# ID known excluded letters\n",
    "input_excludes = input(\"Enter excluded letters separated by a space: \")\n",
    "excludes = input_excludes.split()\n",
    "\n",
    "# ID known positions\n",
    "pos_str = input(\"Enter known positions (e.g., S??A?): \")\n",
    "\n",
    "# ID known non-positions\n",
    "non_pos =[\"\",\"\",\"\",\"\",\"\"]\n",
    "for i in range(len(contains)):\n",
    "    if contains[i] not in pos_str:\n",
    "        non_pos[i] = input(f\"Enter known nonpositions for letter {contains[i]} (e.g., R??R?): \")\n",
    "\n",
    "# update frequency counts, remaining word list and generate new guess\n",
    "df = ltr_density(temp)\n",
    "temp = update_wd_list(contains, excludes, pos_str, non_pos, temp)\n",
    "guess = guess_wd(temp, alphabet)\n",
    "if len(guess)<5:\n",
    "    guess = temp[0]\n",
    "print(f\"You should try: {guess}\")"
   ]
  },
  {
   "cell_type": "code",
   "execution_count": 218,
   "metadata": {},
   "outputs": [
    {
     "data": {
      "text/plain": [
       "['TRUSS']"
      ]
     },
     "execution_count": 218,
     "metadata": {},
     "output_type": "execute_result"
    }
   ],
   "source": [
    "temp"
   ]
  },
  {
   "cell_type": "code",
   "execution_count": null,
   "metadata": {},
   "outputs": [],
   "source": []
  }
 ],
 "metadata": {
  "kernelspec": {
   "display_name": "Python 3",
   "language": "python",
   "name": "python3"
  },
  "language_info": {
   "codemirror_mode": {
    "name": "ipython",
    "version": 3
   },
   "file_extension": ".py",
   "mimetype": "text/x-python",
   "name": "python",
   "nbconvert_exporter": "python",
   "pygments_lexer": "ipython3",
   "version": "3.7.9"
  }
 },
 "nbformat": 4,
 "nbformat_minor": 4
}
